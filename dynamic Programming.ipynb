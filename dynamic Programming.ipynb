{
 "cells": [
  {
   "cell_type": "markdown",
   "metadata": {},
   "source": [
    "# 动态规划"
   ]
  },
  {
   "cell_type": "markdown",
   "metadata": {},
   "source": [
    "> 在我们解决一个大问题的时候，会将其分解为多个规模更小的子问题，然后子问题再划分为规模更小的子问题，最终得到问题的解。从这个角度来说，存在一个或多个常数时间可解的基本子问题，对任意问题，都可以通过调用这些子问题来解决。"
   ]
  },
  {
   "cell_type": "markdown",
   "metadata": {},
   "source": [
    "> 举一个典型的例子，求解斐波那契数列。根据其定义，每一项是前两项的和，直观上我们可以写出如下的递归程序："
   ]
  },
  {
   "cell_type": "code",
   "execution_count": 1,
   "metadata": {
    "collapsed": true
   },
   "outputs": [],
   "source": [
    "def fib1(n):\n",
    "    f = 0;\n",
    "    g = 1;\n",
    "    if n==0:\n",
    "        return f;\n",
    "    if n==1:\n",
    "        return g\n",
    "    return fib1(n-1)+fib1(n-2)"
   ]
  },
  {
   "cell_type": "markdown",
   "metadata": {},
   "source": [
    "### 备忘机制\n",
    "\n",
    "这个程序虽然简单，但也存在很明显的问题。比如我们求解$fib1(5)$的时候，会去调用$fib1(4)$和f$ib1(3)$，而求解$fib1(4)$的时候又会调用$fib1(3)$和$fib1(2)$，这样就有很多重复调用的地方，也就是说，同一个问题解决了很多次，这是完全没有必要的。在问题规模很大的时候，所需时间会达到天文数字。\n",
    "那么，怎么避免重复解决的子问题呢？一个直观的解决办法就是，将已经解决的子问题备忘，这样每次调用子问题的时候，我们先检查备忘，看这个问题有没有被解决过，如果有，那么我们直接拿来用；如果没有，我们就解决了并将其备忘，留待下次使用。"
   ]
  },
  {
   "cell_type": "code",
   "execution_count": 33,
   "metadata": {},
   "outputs": [],
   "source": [
    "def fib2(n):\n",
    "    f = [-1 for i in range(n+1)]\n",
    "    return fib_mem(n,f)\n",
    "\n",
    "def fib_mem(n, f):\n",
    "    if f[n]>=0:\n",
    "        return f[n]\n",
    "    elif n==0:\n",
    "        f[0] = 0\n",
    "    elif n==1:\n",
    "        f[1] = 1\n",
    "    else:\n",
    "        for j in range(2,n+1):\n",
    "            f[n]=f[n-1]+f[n-2]\n",
    "    return f[n]"
   ]
  },
  {
   "cell_type": "markdown",
   "metadata": {},
   "source": [
    "### 自底向上解决\n",
    "\n",
    "而从另一个思路来说，既然解决一个大问题最终都会退化到解决规模更小的问题，那么我们可以从最基础的问题开始，一步步扩大问题的规模，直到解决所求问题"
   ]
  },
  {
   "cell_type": "code",
   "execution_count": 26,
   "metadata": {
    "collapsed": true
   },
   "outputs": [],
   "source": [
    "def fib3(n):\n",
    "    f = 0;\n",
    "    g = 1;\n",
    "    if n==0:\n",
    "        return f;\n",
    "    if n==1:\n",
    "        return g\n",
    "    while(n-1):\n",
    "        f,g = g, f+g\n",
    "        n=n-1\n",
    "    return g"
   ]
  },
  {
   "cell_type": "markdown",
   "metadata": {},
   "source": [
    "> 我们可以用python的time模块对上述三种算法的效率进行测试。由于第一种方法的运行时间是指数级的，所以参数n在大于50之后所需时间开销已经非常大，所以我们在计算$fib1(n)$时取$n=30$，而计算$fib2(n)$和$fib3(n)$时取$n=3000$。可以看出，方法二和方法三能对很大的$n$进行明显快速的计算，达到线性的时间复杂度$O(n)$。且自底向上的方法的时间开销会更小。"
   ]
  },
  {
   "cell_type": "code",
   "execution_count": 49,
   "metadata": {},
   "outputs": [
    {
     "name": "stdout",
     "output_type": "stream",
     "text": [
      "t1= 0.6944121549680631 s\n",
      "t2= 2.3279502310621183 s\n",
      "t3= 1.872036289799098 s\n"
     ]
    }
   ],
   "source": [
    "import time\n",
    "start = time.clock()\n",
    "for i in range(30):\n",
    "    fib1(i)\n",
    "t1 = time.clock()-start\n",
    "start = time.clock()\n",
    "for i in range(5000):\n",
    "    fib2(i)\n",
    "t2 = time.clock()-start\n",
    "start = time.clock()\n",
    "for i in range(5000):\n",
    "    fib3(i)\n",
    "t3 = time.clock()-start\n",
    "print('t1=',t1,'s')\n",
    "print('t2=',t2,'s')\n",
    "print('t3=',t3,'s')"
   ]
  },
  {
   "cell_type": "markdown",
   "metadata": {},
   "source": [
    "### 运用装饰器监测程序运行时间"
   ]
  },
  {
   "cell_type": "code",
   "execution_count": null,
   "metadata": {
    "collapsed": true
   },
   "outputs": [],
   "source": []
  }
 ],
 "metadata": {
  "kernelspec": {
   "display_name": "Python 3",
   "language": "python",
   "name": "python3"
  },
  "language_info": {
   "codemirror_mode": {
    "name": "ipython",
    "version": 3
   },
   "file_extension": ".py",
   "mimetype": "text/x-python",
   "name": "python",
   "nbconvert_exporter": "python",
   "pygments_lexer": "ipython3",
   "version": "3.6.1"
  }
 },
 "nbformat": 4,
 "nbformat_minor": 2
}
